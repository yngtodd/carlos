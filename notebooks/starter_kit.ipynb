{
 "cells": [
  {
   "cell_type": "code",
   "execution_count": 35,
   "metadata": {},
   "outputs": [
    {
     "name": "stdout",
     "output_type": "stream",
     "text": [
      "Populating the interactive namespace from numpy and matplotlib\n"
     ]
    }
   ],
   "source": [
    "%pylab inline"
   ]
  },
  {
   "cell_type": "code",
   "execution_count": 1,
   "metadata": {},
   "outputs": [],
   "source": [
    "import torch\n",
    "import torch.nn as nn"
   ]
  },
  {
   "cell_type": "code",
   "execution_count": 19,
   "metadata": {},
   "outputs": [],
   "source": [
    "class Sigmoid:\n",
    "    \"\"\"Standard Sigmoid function.\n",
    "\n",
    "    Our forward function is the normal sigmoid()\n",
    "    Our backward function is the functions' derivative.\n",
    "\n",
    "    These names are just used to clarify when we use them \n",
    "    in our neural network.\n",
    "    \"\"\"\n",
    "    def forward(self, s):\n",
    "        return 1 / (1 + torch.exp(-s))\n",
    "\n",
    "    def backward(self, s):\n",
    "        \"\"\"Derivative of the Sigmoid function.\"\"\"\n",
    "        return s * (1 - s)\n",
    "\n",
    "\n",
    "class MultiLayerPerceptron(nn.Module):\n",
    "\n",
    "    def __init__(self, input_size, hidden_size, num_classes):\n",
    "        super(MultiLayerPerceptron, self).__init__()\n",
    "\n",
    "        # Weights\n",
    "        self.W1 = nn.Parameter(torch.randn(input_size, hidden_size))\n",
    "        self.W2 = nn.Parameter(torch.randn(hidden_size, num_classes))\n",
    "        # Activation function\n",
    "        self.sigmoid = Sigmoid()\n",
    "\n",
    "    def forward(self, x):\n",
    "        self.z = torch.matmul(x, self.W1)\n",
    "        self.z2 = self.sigmoid.forward(self.z)\n",
    "        self.z3 = torch.matmul(self.z2, self.W2)\n",
    "        out = self.sigmoid.forward(self.z3)\n",
    "        return out"
   ]
  },
  {
   "cell_type": "code",
   "execution_count": 20,
   "metadata": {},
   "outputs": [],
   "source": [
    "# Use for replicability.\n",
    "torch.manual_seed(42)\n",
    "\n",
    "# Training data for XOR.\n",
    "x = torch.tensor([[0, 0], [0, 1], [1, 0], [1, 1]], dtype=torch.float)\n",
    "y = torch.tensor([[0], [1], [1], [0]], dtype=torch.float)"
   ]
  },
  {
   "cell_type": "code",
   "execution_count": 26,
   "metadata": {},
   "outputs": [
    {
     "name": "stdout",
     "output_type": "stream",
     "text": [
      "tensor([-0.9058, -0.2607, -0.5465,  2.1174, -1.7118,  0.1651,  1.5819,  0.4485,\n",
      "         0.0330])\n",
      "tensor([[-0.9058, -0.2607, -0.5465],\n",
      "        [ 2.1174, -1.7118,  0.1651]])\n",
      "tensor([[1.5819],\n",
      "        [0.4485],\n",
      "        [0.0330]])\n"
     ]
    }
   ],
   "source": [
    "def total_params(model):\n",
    "    n=0\n",
    "    for p in model.parameters():\n",
    "        np = p.numel()\n",
    "        n += np\n",
    "    return n\n",
    "\n",
    "def set_params(model, theta):\n",
    "    \"\"\"Set parameters of the model\"\"\"\n",
    "    n=0\n",
    "    for p in model.parameters():\n",
    "        np = p.numel()\n",
    "        p.data[...] = theta[n:n+np].view(*p.size())\n",
    "        n += np\n",
    "\n",
    "model = MultiLayerPerceptron(2,3,1)\n",
    "Np = total_params(model)\n",
    "Np\n",
    "theta = torch.randn((Np,))\n",
    "set_params(model, theta)\n",
    "\n",
    "print(theta)\n",
    "for p in model.parameters():\n",
    "    print(p.data)"
   ]
  },
  {
   "cell_type": "code",
   "execution_count": 36,
   "metadata": {},
   "outputs": [
    {
     "data": {
      "text/plain": [
       "<matplotlib.axes._subplots.AxesSubplot at 0x1a2bfef0b8>"
      ]
     },
     "execution_count": 36,
     "metadata": {},
     "output_type": "execute_result"
    },
    {
     "data": {
      "image/png": "[encoded data removed]",
      "text/plain": [
       "<Figure size 432x288 with 1 Axes>"
      ]
     },
     "metadata": {
      "needs_background": "light"
     },
     "output_type": "display_data"
    }
   ],
   "source": [
    "class Normal:\n",
    "    def __init__(self, mu, sigma):\n",
    "        self.mu = mu\n",
    "        self.sigma = sigma\n",
    "    def sample(self, N):\n",
    "        return torch.randn(N)*self.sigma + self.mu\n",
    "    def log_density(self, x):\n",
    "        \"unnormalized log density\"\n",
    "        return - (x-self.mu)**2/(2*self.sigma)\n",
    "\n",
    "prior = Normal(0,1)\n",
    "prior.log_density(1)\n",
    "import seaborn as sns\n",
    "sns.distplot(prior.sample(1000))"
   ]
  },
  {
   "cell_type": "code",
   "execution_count": 37,
   "metadata": {},
   "outputs": [],
   "source": [
    "def log_likelihood(model, x, y):\n",
    "    \"\"\"Take the log likelihood of the theta with respect data\"\"\"\n",
    "    out = model(x)\n",
    "    return nn.functional.mse_loss(out,y)"
   ]
  },
  {
   "cell_type": "code",
   "execution_count": 38,
   "metadata": {},
   "outputs": [
    {
     "data": {
      "text/plain": [
       "tensor(0.3267, grad_fn=<MseLossBackward>)"
      ]
     },
     "execution_count": 38,
     "metadata": {},
     "output_type": "execute_result"
    }
   ],
   "source": [
    "log_likelihood(model, x, y)"
   ]
  },
  {
   "cell_type": "code",
   "execution_count": 43,
   "metadata": {},
   "outputs": [],
   "source": [
    "class MetropolisSampler:\n",
    "    def __init__(self, model):\n",
    "        pass\n",
    "    def chain(self, N):\n",
    "        pass\n",
    "\n",
    "def metropolis(theta0, n_mc, sigma_proposal, model, x, y):\n",
    "    chain = []\n",
    "    chain.append(theta0)\n",
    "    \n",
    "    proposal = Normal(theta0, sigma_proposal)\n",
    "    theta_current = theta0\n",
    "    \n",
    "    for i in range(n_mc):\n",
    "        theta_proposed = proposal.sample(1)\n",
    "        \n",
    "        proposal.mu = theta_proposed\n",
    "        log_rate = log_posterior(theta_proposed, model, x, y)+proposal.log_density(theta_current)\n",
    "        \n",
    "        proposal.mu = theta_current\n",
    "        log_rate = log_rate-log_posterior(theta_current)-proposal.log_density(theta_proposed)\n",
    "        \n",
    "        u = torch.rand()\n",
    "        \n",
    "        if log(u) < log_rate:\n",
    "            theta_current = theta_proposed\n",
    "            \n",
    "        chain.append(theta_current)\n",
    "        \n",
    "    return chain"
   ]
  },
  {
   "cell_type": "code",
   "execution_count": 44,
   "metadata": {},
   "outputs": [],
   "source": [
    "def log_posterior(theta, model, x, y):\n",
    "    set_params(model, theta)\n",
    "    log_likelihood(model, x, y)+prior.log_density(theta)"
   ]
  },
  {
   "cell_type": "code",
   "execution_count": 45,
   "metadata": {},
   "outputs": [
    {
     "ename": "NameError",
     "evalue": "name 'l' is not defined",
     "output_type": "error",
     "traceback": [
      "\u001b[0;31m---------------------------------------------------------------------------\u001b[0m",
      "\u001b[0;31mNameError\u001b[0m                                 Traceback (most recent call last)",
      "\u001b[0;32m<ipython-input-45-c25603ee5acd>\u001b[0m in \u001b[0;36m<module>\u001b[0;34m\u001b[0m\n\u001b[0;32m----> 1\u001b[0;31m \u001b[0mmetropolis\u001b[0m\u001b[0;34m(\u001b[0m\u001b[0ml\u001b[0m\u001b[0;34m)\u001b[0m\u001b[0;34m\u001b[0m\u001b[0;34m\u001b[0m\u001b[0m\n\u001b[0m",
      "\u001b[0;31mNameError\u001b[0m: name 'l' is not defined"
     ]
    }
   ],
   "source": [
    "metropolis()"
   ]
  },
  {
   "cell_type": "code",
   "execution_count": null,
   "metadata": {},
   "outputs": [],
   "source": []
  }
 ],
 "metadata": {
  "kernelspec": {
   "display_name": "Python 3",
   "language": "python",
   "name": "python3"
  },
  "language_info": {
   "codemirror_mode": {
    "name": "ipython",
    "version": 3
   },
   "file_extension": ".py",
   "mimetype": "text/x-python",
   "name": "python",
   "nbconvert_exporter": "python",
   "pygments_lexer": "ipython3",
   "version": "3.7.1"
  }
 },
 "nbformat": 4,
 "nbformat_minor": 2
}
